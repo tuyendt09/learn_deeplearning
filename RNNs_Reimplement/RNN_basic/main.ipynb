{
 "cells": [
  {
   "cell_type": "code",
   "execution_count": 26,
   "metadata": {},
   "outputs": [],
   "source": [
    "import torch\n",
    "from torch import nn\n",
    "\n",
    "import numpy as np"
   ]
  },
  {
   "cell_type": "code",
   "execution_count": 27,
   "metadata": {},
   "outputs": [],
   "source": [
    "text = ['hey bạn khỏe không',\n",
    "       'tôi khỏe vừa vừa',\n",
    "       'chúc một ngày tốt lành',\n",
    "        'Mặt hoa da phấn.',\n",
    "        'Cưng như cưng trứng, hứng như hứng hoa.',\n",
    "        'Đứng núi này trông núi nọ.',\n",
    "        'Mưa to gió lớn.',\n",
    "        'Ngày lành tháng tốt.',\n",
    "       ]\n",
    "#extract unique characters\n",
    "chars = set(''.join(text))\n",
    "#dict map integers to characters\n",
    "int2char = dict(enumerate(chars))\n",
    "#dict map characters to integers\n",
    "char2int = {char: ind for ind, char in int2char.items()}"
   ]
  },
  {
   "cell_type": "markdown",
   "metadata": {},
   "source": [
    " In order to used batches to train on our data, we'll need to ensure that each sequence within the input data is of equal size. So we need padding sentences"
   ]
  },
  {
   "cell_type": "code",
   "execution_count": 28,
   "metadata": {},
   "outputs": [],
   "source": [
    "#Finding the length of the longest string in our data\n",
    "maxlen = len(max(text, key=len))\n",
    "\n",
    "for i in range(len(text)):\n",
    "  while (len(text[i])<maxlen):\n",
    "      text[i] += ' '"
   ]
  },
  {
   "cell_type": "code",
   "execution_count": 29,
   "metadata": {},
   "outputs": [
    {
     "name": "stdout",
     "output_type": "stream",
     "text": [
      "Input Sequence: hey bạn khỏe không                    \n",
      "Target Sequence: ey bạn khỏe không                     \n",
      "Input Sequence: tôi khỏe vừa vừa                      \n",
      "Target Sequence: ôi khỏe vừa vừa                       \n",
      "Input Sequence: chúc một ngày tốt lành                \n",
      "Target Sequence: húc một ngày tốt lành                 \n",
      "Input Sequence: Mặt hoa da phấn.                      \n",
      "Target Sequence: ặt hoa da phấn.                       \n",
      "Input Sequence: Cưng như cưng trứng, hứng như hứng hoa\n",
      "Target Sequence: ưng như cưng trứng, hứng như hứng hoa.\n",
      "Input Sequence: Đứng núi này trông núi nọ.            \n",
      "Target Sequence: ứng núi này trông núi nọ.             \n",
      "Input Sequence: Mưa to gió lớn.                       \n",
      "Target Sequence: ưa to gió lớn.                        \n",
      "Input Sequence: Ngày lành tháng tốt.                  \n",
      "Target Sequence: gày lành tháng tốt.                   \n"
     ]
    }
   ],
   "source": [
    "# Creating lists that will hold our input and target sequences\n",
    "input_seq = []\n",
    "target_seq = []\n",
    "\n",
    "for i in range(len(text)):\n",
    "    # Remove last character for input sequence\n",
    "  input_seq.append(text[i][:-1])\n",
    "    \n",
    "    # Remove first character for target sequence\n",
    "  target_seq.append(text[i][1:])\n",
    "  print(\"Input Sequence: {}\\nTarget Sequence: {}\".format(input_seq[i], target_seq[i]))"
   ]
  },
  {
   "cell_type": "code",
   "execution_count": 30,
   "metadata": {},
   "outputs": [],
   "source": [
    "for i in range(len(text)):\n",
    "    input_seq[i] = [char2int[character] for character in input_seq[i]]\n",
    "    target_seq[i] = [char2int[character] for character in target_seq[i]]"
   ]
  },
  {
   "cell_type": "code",
   "execution_count": 31,
   "metadata": {},
   "outputs": [
    {
     "name": "stdout",
     "output_type": "stream",
     "text": [
      "Char2Int: [3, 39, 2, 10, 14, 2, 0, 7, 14, 2, 21, 1, 14, 19, 25, 4, 2, 10, 14, 2, 0, 7, 14, 2, 33, 26, 14, 14, 14, 14, 14, 14, 14, 14, 14, 14, 14, 14]\n",
      "Int2Char: Đứng núi này trông núi nọ.            \n"
     ]
    }
   ],
   "source": [
    "print('Char2Int: {}'.format(input_seq[5]))\n",
    "print('Int2Char: {}'.format(''.join([int2char[idx] for idx in input_seq[5]])))"
   ]
  },
  {
   "cell_type": "code",
   "execution_count": 32,
   "metadata": {},
   "outputs": [],
   "source": [
    "dict_size = len(char2int)\n",
    "seq_len = maxlen - 1\n",
    "batch_size = len(text)\n",
    "\n",
    "def one_hot_encode(sequence, dict_size, seq_len, batch_size):\n",
    "    # Creating a multi-dimensional array of zeros with the desired output shape\n",
    "    features = np.zeros((batch_size, seq_len, dict_size), dtype=np.float32)\n",
    "    # Replacing the 0 at the relevant character index with a 1 to represent that character\n",
    "    for i in range(batch_size):\n",
    "        for u in range(seq_len):\n",
    "            features[i, u, sequence[i][u]] = 1\n",
    "    return features\n",
    "\n",
    "input_seq = one_hot_encode(input_seq, dict_size, seq_len, batch_size)"
   ]
  },
  {
   "cell_type": "code",
   "execution_count": 33,
   "metadata": {},
   "outputs": [],
   "source": [
    "input_seq = torch.from_numpy(input_seq)\n",
    "target_seq = torch.Tensor(target_seq)"
   ]
  },
  {
   "cell_type": "code",
   "execution_count": 34,
   "metadata": {},
   "outputs": [],
   "source": [
    "device = torch.device(\"cpu\")"
   ]
  },
  {
   "cell_type": "code",
   "execution_count": 35,
   "metadata": {},
   "outputs": [],
   "source": [
    "class Model(nn.Module):\n",
    "    def __init__(self, input_size, output_size, hidden_dim, n_layers):\n",
    "        super(Model, self).__init__()\n",
    "\n",
    "        # Defining some parameters\n",
    "        self.hidden_dim = hidden_dim\n",
    "        self.n_layers = n_layers\n",
    "\n",
    "        #Defining the layers\n",
    "        # RNN Layer\n",
    "        self.rnn = nn.RNN(input_size, hidden_dim, n_layers, batch_first=True)   \n",
    "        # Fully connected layer\n",
    "        self.fc = nn.Linear(hidden_dim, output_size)\n",
    "    \n",
    "    def forward(self, x):\n",
    "        \n",
    "        batch_size = x.size(0)\n",
    "\n",
    "        # Initializing hidden state for first input using method defined below\n",
    "        hidden = self.init_hidden(batch_size)\n",
    "\n",
    "        # Passing in the input and hidden state into the model and obtaining outputs\n",
    "        out, hidden = self.rnn(x, hidden)\n",
    "        \n",
    "        # Reshaping the outputs such that it can be fit into the fully connected layer\n",
    "        out = out.contiguous().view(-1, self.hidden_dim)\n",
    "        out = self.fc(out)\n",
    "        \n",
    "        return out, hidden\n",
    "    \n",
    "    def init_hidden(self, batch_size):\n",
    "        # This method generates the first hidden state of zeros which we'll use in the forward pass\n",
    "        # We'll send the tensor holding the hidden state to the device we specified earlier as well\n",
    "        hidden = torch.zeros(self.n_layers, batch_size, self.hidden_dim)\n",
    "        return hidden"
   ]
  },
  {
   "cell_type": "code",
   "execution_count": 36,
   "metadata": {},
   "outputs": [
    {
     "name": "stdout",
     "output_type": "stream",
     "text": [
      "Current Device: cpu\n",
      "Epoch: 100/2000............. Loss: 0.8884\n",
      "Epoch: 200/2000............. Loss: 0.2513\n",
      "Epoch: 300/2000............. Loss: 0.1038\n",
      "Epoch: 400/2000............. Loss: 0.0539\n",
      "Epoch: 500/2000............. Loss: 0.0508\n",
      "Epoch: 600/2000............. Loss: 0.0313\n",
      "Epoch: 700/2000............. Loss: 0.0211\n",
      "Epoch: 800/2000............. Loss: 0.0164\n",
      "Epoch: 900/2000............. Loss: 0.0136\n",
      "Epoch: 1000/2000............. Loss: 0.0118\n",
      "Epoch: 1100/2000............. Loss: 0.0105\n",
      "Epoch: 1200/2000............. Loss: 0.0095\n",
      "Epoch: 1300/2000............. Loss: 0.0087\n",
      "Epoch: 1400/2000............. Loss: 0.0081\n",
      "Epoch: 1500/2000............. Loss: 0.0077\n",
      "Epoch: 1600/2000............. Loss: 0.0073\n",
      "Epoch: 1700/2000............. Loss: 0.0070\n",
      "Epoch: 1800/2000............. Loss: 0.5326\n",
      "Epoch: 1900/2000............. Loss: 0.0974\n",
      "Epoch: 2000/2000............. Loss: 0.0591\n"
     ]
    }
   ],
   "source": [
    "print('Current Device: {}'.format(device))\n",
    "# Instantiate the model with hyperparameters\n",
    "model = Model(input_size=dict_size, output_size=dict_size, hidden_dim=12, n_layers=1)\n",
    "# We'll also set the model to the device that we defined earlier (default is CPU)\n",
    "model.to(device)\n",
    "\n",
    "# Define hyperparameters\n",
    "n_epochs = 2000\n",
    "lr=0.01\n",
    "\n",
    "# Define Loss, Optimizer\n",
    "criterion = nn.CrossEntropyLoss()\n",
    "optimizer = torch.optim.Adam(model.parameters(), lr=lr)\n",
    "# Training Run\n",
    "for epoch in range(1, n_epochs + 1):\n",
    "    optimizer.zero_grad() # Clears existing gradients from previous epoch\n",
    "    input_seq.to(device)\n",
    "    output, hidden = model(input_seq)\n",
    "    loss = criterion(output, target_seq.view(-1).long())\n",
    "    loss.backward() # Does backpropagation and calculates gradients\n",
    "    optimizer.step() # Updates the weights accordingly\n",
    "    \n",
    "    if epoch%100 == 0:\n",
    "        print('Epoch: {}/{}.............'.format(epoch, n_epochs), end=' ')\n",
    "        print(\"Loss: {:.4f}\".format(loss.item()))"
   ]
  },
  {
   "cell_type": "code",
   "execution_count": 37,
   "metadata": {},
   "outputs": [],
   "source": [
    "# This function takes in the model and character as arguments and returns the next character prediction and hidden state\n",
    "def predict(model, character):\n",
    "    # One-hot encoding our input to fit into the model\n",
    "    character = np.array([[char2int[c] for c in character]])\n",
    "    character = one_hot_encode(character, dict_size, character.shape[1], 1)\n",
    "    character = torch.from_numpy(character)\n",
    "    character.to(device)\n",
    "    \n",
    "    out, hidden = model(character)\n",
    "\n",
    "    prob = nn.functional.softmax(out[-1], dim=0).data\n",
    "    # Taking the class with the highest probability score from the output\n",
    "    char_ind = torch.max(prob, dim=0)[1].item()\n",
    "\n",
    "    return int2char[char_ind], hidden"
   ]
  },
  {
   "cell_type": "code",
   "execution_count": 38,
   "metadata": {},
   "outputs": [],
   "source": [
    "# This function takes the desired output length and input characters as arguments, returning the produced sentence\n",
    "def sample(model, out_len, start='hey'):\n",
    "    model.eval() # eval mode\n",
    "    start = start.lower()\n",
    "    # First off, run through the starting characters\n",
    "    chars = [ch for ch in start]\n",
    "    size = out_len - len(chars)\n",
    "    # Now pass in the previous characters and get a new one\n",
    "    for ii in range(size):\n",
    "        char, h = predict(model, chars)\n",
    "        chars.append(char)\n",
    "\n",
    "    return ''.join(chars)"
   ]
  },
  {
   "cell_type": "code",
   "execution_count": 43,
   "metadata": {},
   "outputs": [
    {
     "data": {
      "text/plain": [
       "'cưng như cưng trứng, hứng như hứng hoa. '"
      ]
     },
     "execution_count": 43,
     "metadata": {},
     "output_type": "execute_result"
    }
   ],
   "source": [
    "sample(model, 40, start='cưng')"
   ]
  }
 ],
 "metadata": {
  "kernelspec": {
   "display_name": "vietocr-kernel",
   "language": "python",
   "name": "vietocr-kernel"
  },
  "language_info": {
   "codemirror_mode": {
    "name": "ipython",
    "version": 3
   },
   "file_extension": ".py",
   "mimetype": "text/x-python",
   "name": "python",
   "nbconvert_exporter": "python",
   "pygments_lexer": "ipython3",
   "version": "3.8.0"
  },
  "vscode": {
   "interpreter": {
    "hash": "fea3ca530e12b0f46df8ff510bd3e57dd0504297dbe3163b2a0004ffa656f522"
   }
  }
 },
 "nbformat": 4,
 "nbformat_minor": 2
}
